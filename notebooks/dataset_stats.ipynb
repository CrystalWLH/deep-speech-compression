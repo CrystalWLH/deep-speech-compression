{
 "cells": [
  {
   "cell_type": "markdown",
   "metadata": {},
   "source": [
    "# LibriSpeech dataset basic stats\n"
   ]
  },
  {
   "cell_type": "code",
   "execution_count": 2,
   "metadata": {
    "collapsed": false
   },
   "outputs": [],
   "source": [
    "import os\n",
    "import sys\n",
    "sys.path.append(os.path.abspath('../'))\n",
    "import numpy as np\n",
    "import IPython.display as ipd\n",
    "import librosa\n",
    "from collections import Counter\n",
    "import matplotlib.pyplot as plt\n",
    "from transcription_utils import create_vocab_id2transcript,get_ctc_char2ids,get_id2encoded_transcriptions\n",
    "from audio_utils import load_raw_audio,wave2ampl_spectrogram,get_duration_in_s\n",
    "from tfrecords_utils import load_data_by_split"
   ]
  },
  {
   "cell_type": "markdown",
   "metadata": {},
   "source": [
    "Create input data as for training. I should probably modify s.t. one function call is enough"
   ]
  },
  {
   "cell_type": "code",
   "execution_count": 3,
   "metadata": {
    "collapsed": false
   },
   "outputs": [
    {
     "name": "stderr",
     "output_type": "stream",
     "text": [
      "2018-05-05 16:46:47,191 : INFO : transcription_utils: Created character set of size 28\n",
      "2018-05-05 16:46:47,192 : INFO : transcription_utils: Created transcriptions lookup\n",
      "2018-05-05 16:46:47,194 : INFO : transcription_utils: Modified characters id lookup for compatibility with CTC loss\n",
      "2018-05-05 16:46:47,241 : INFO : transcription_utils: Encoding transcription with character to indices lookup\n"
     ]
    }
   ],
   "source": [
    "DATA_PATH = '../LibriSpeech/'\n",
    "SAMPLE_RATE = 16000\n",
    "chars_set, ids2trans = create_vocab_id2transcript(DATA_PATH)\n",
    "chars2ids = get_ctc_char2ids(chars_set)\n",
    "ids2chars = {idx : c for c,idx in chars2ids.items()}\n",
    "encoded_transcriptions = get_id2encoded_transcriptions(ids2trans, chars2ids)"
   ]
  },
  {
   "cell_type": "markdown",
   "metadata": {},
   "source": [
    "This is the possible set of characters (labels) with corresponded lookup id."
   ]
  },
  {
   "cell_type": "code",
   "execution_count": 4,
   "metadata": {
    "collapsed": false
   },
   "outputs": [
    {
     "name": "stdout",
     "output_type": "stream",
     "text": [
      "{'T': 11, 'H': 0, 'I': 12, 'E': 1, 'V': 8, 'X': 13, ' ': 27, 'Y': 18, 'W': 2, 'C': 14, 'Z': 15, 'N': 16, 'G': 3, 'U': 4, 'L': 5, 'Q': 17, 'A': 6, 'J': 19, 'O': 20, \"'\": 7, 'S': 9, 'D': 21, 'F': 10, 'P': 22, 'B': 23, 'M': 24, 'R': 25, 'K': 26}\n"
     ]
    }
   ],
   "source": [
    "print(chars2ids)"
   ]
  },
  {
   "cell_type": "markdown",
   "metadata": {},
   "source": [
    "Load data splits:"
   ]
  },
  {
   "cell_type": "code",
   "execution_count": null,
   "metadata": {
    "collapsed": false
   },
   "outputs": [],
   "source": [
    "data_train = load_data_by_split(data_path=DATA_PATH,split='dev',\n",
    "                              id2encoded_transc=encoded_transcriptions, limit = None)\n",
    "data_dev = load_data_by_split(data_path=DATA_PATH,split='dev',\n",
    "                              id2encoded_transc=encoded_transcriptions, limit = None)\n",
    "data_test = load_data_by_split(data_path=DATA_PATH,split='dev',\n",
    "                              id2encoded_transc=encoded_transcriptions, limit = None)"
   ]
  },
  {
   "cell_type": "code",
   "execution_count": null,
   "metadata": {
    "collapsed": false
   },
   "outputs": [],
   "source": [
    "audio_example = data_dev[2]\n",
    "print(audio_example)"
   ]
  },
  {
   "cell_type": "markdown",
   "metadata": {},
   "source": [
    "Hear to one examples and plot its amplityde spectrogram"
   ]
  },
  {
   "cell_type": "code",
   "execution_count": null,
   "metadata": {
    "collapsed": false
   },
   "outputs": [],
   "source": [
    "audio = load_raw_audio(audio_example.audio_path, sample_rate = SAMPLE_RATE)"
   ]
  },
  {
   "cell_type": "code",
   "execution_count": null,
   "metadata": {
    "collapsed": false
   },
   "outputs": [],
   "source": [
    "ipd.Audio(audio, rate=SAMPLE_RATE)"
   ]
  },
  {
   "cell_type": "code",
   "execution_count": null,
   "metadata": {
    "collapsed": false
   },
   "outputs": [],
   "source": [
    "print([ids2chars[c] for c in audio_example.transcription])"
   ]
  },
  {
   "cell_type": "code",
   "execution_count": null,
   "metadata": {
    "collapsed": false
   },
   "outputs": [],
   "source": [
    "spec = wave2ampl_spectrogram(audio, fft_window = 512, hop_length = 128)\n",
    "D = librosa.amplitude_to_db(spec, ref=np.max)\n",
    "plt.figure(figsize=(14,8))\n",
    "librosa.display.specshow(audio_ex_spect, y_axis='linear', cmap = 'inferno')\n",
    "plt.colorbar(format='%+02.0f dB')\n",
    "plt.tight_layout()\n",
    "plt.show()"
   ]
  },
  {
   "cell_type": "markdown",
   "metadata": {},
   "source": [
    "And now some basic stats\n",
    "\n"
   ]
  },
  {
   "cell_type": "code",
   "execution_count": null,
   "metadata": {
    "collapsed": true
   },
   "outputs": [],
   "source": [
    "def histogram_from_counts(audio_lengths, width, split):\n",
    "    labels, values = zip(*Counter(audio_lengths).items())\n",
    "    indexes = np.arange(len(labels))\n",
    "    plt.figure(figsize=(14,8))\n",
    "    plt.bar(indexes, values, width)\n",
    "    plt.title(\"{} audio lenghts distributions\".format(split))\n",
    "    plt.xticks(indexes + width * 0.5, labels)\n",
    "    plt.show()\n"
   ]
  },
  {
   "cell_type": "code",
   "execution_count": null,
   "metadata": {
    "collapsed": false
   },
   "outputs": [],
   "source": [
    "to_display = [('Train',data_train), ('Dev', data_dev) ,('Test',data_test)]\n",
    "for (name,split) in to_display:\n",
    "    audio_lenghts = [get_duration_in_s(load_raw_audio(a.audio_path, SAMPLE_RATE),SAMPLE_RATE) for a in split]\n",
    "    print(audio_lenghts)\n",
    "    print(\"Max audio length in {} : {}\".format(name,max(audio_lenghts)))\n",
    "    print(\"Min audio length in {} : {}\".format(name,min(audio_lenghts)))\n",
    "    histogram_from_counts(audio_lengths=audio_lenghts, width = 0.1, split = name)\n",
    "    \n",
    "    \n",
    "    "
   ]
  },
  {
   "cell_type": "code",
   "execution_count": null,
   "metadata": {
    "collapsed": true
   },
   "outputs": [],
   "source": []
  }
 ],
 "metadata": {
  "kernelspec": {
   "display_name": "IM",
   "language": "python",
   "name": "im"
  },
  "language_info": {
   "codemirror_mode": {
    "name": "ipython",
    "version": 3
   },
   "file_extension": ".py",
   "mimetype": "text/x-python",
   "name": "python",
   "nbconvert_exporter": "python",
   "pygments_lexer": "ipython3",
   "version": "3.5.3"
  }
 },
 "nbformat": 4,
 "nbformat_minor": 2
}
